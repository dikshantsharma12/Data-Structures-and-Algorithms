{
 "cells": [
  {
   "cell_type": "code",
   "execution_count": 2,
   "metadata": {},
   "outputs": [],
   "source": [
    "lis=[1,3,4]\n",
    "c=lis.index(1)"
   ]
  },
  {
   "cell_type": "code",
   "execution_count": 18,
   "metadata": {},
   "outputs": [
    {
     "name": "stdout",
     "output_type": "stream",
     "text": [
      "9\n",
      "5\n",
      "1\n"
     ]
    }
   ],
   "source": [
    "def conversion(n,k):\n",
    "     \n",
    "\n",
    "    binaryNum = [0] * n;\n",
    "    i = 0;\n",
    "    while (n > 0):\n",
    "        binaryNum[i] = n % 2;\n",
    "        n = int(n / 2);\n",
    "        i += 1;\n",
    "    final=\"\"\n",
    "    for j in range(i - 1, -1, -1):\n",
    "        final+=str(binaryNum[j])\n",
    "    o=len(final)-k\n",
    "    print(final[o]) \n",
    "    \n",
    "\n",
    "n=int(input())\n",
    "k=int(input())\n",
    "\n",
    "conversion(n,k)"
   ]
  },
  {
   "cell_type": "code",
   "execution_count": 24,
   "metadata": {},
   "outputs": [
    {
     "name": "stdout",
     "output_type": "stream",
     "text": [
      "5\n",
      "[5,4,3,2,1]\n",
      "10\n"
     ]
    }
   ],
   "source": [
    "n=int(input())\n",
    "string=input()\n",
    "lis=[]\n",
    "for i in range(1,len(string)-1):\n",
    "    if string[i]!=\",\":\n",
    "        lis.append(int(string[i]))\n",
    "       \n",
    "        \n",
    "        \n",
    "count=0\n",
    "for i in range(len(lis)): \n",
    "    for j in range(i+1,len(lis)):\n",
    "        if lis[i]>lis[j]:\n",
    "            count+=1\n",
    "print(count)\n",
    "            \n",
    "    "
   ]
  },
  {
   "cell_type": "code",
   "execution_count": 21,
   "metadata": {},
   "outputs": [
    {
     "name": "stdout",
     "output_type": "stream",
     "text": [
      "Plain Text : zzz\n",
      "Shift pattern : 4\n",
      "Cipher: ddd\n"
     ]
    }
   ],
   "source": [
    "def encrypt(text,s):\n",
    "    result = \"\"\n",
    "   # transverse the plain text\n",
    "    for i in range(len(text)):\n",
    "        char = text[i]\n",
    "      # Encrypt uppercase characters in plain text\n",
    "      \n",
    "        if (char.isupper()):\n",
    "            result += chr((ord(char) + s-65) % 26 + 65)\n",
    "      # Encrypt lowercase characters in plain text\n",
    "        else:\n",
    "             result += chr((ord(char) + s - 97) % 26 + 97)\n",
    "    return result\n",
    "#check the above function\n",
    "text = \"zzz\"\n",
    "s = 4\n",
    "\n",
    "print (\"Plain Text : \" + text)\n",
    "print (\"Shift pattern : \" + str(s))\n",
    "print (\"Cipher: \" + encrypt(text,s))"
   ]
  },
  {
   "cell_type": "code",
   "execution_count": 5,
   "metadata": {},
   "outputs": [
    {
     "ename": "KeyboardInterrupt",
     "evalue": "Interrupted by user",
     "output_type": "error",
     "traceback": [
      "\u001b[1;31m---------------------------------------------------------------------------\u001b[0m",
      "\u001b[1;31mKeyboardInterrupt\u001b[0m                         Traceback (most recent call last)",
      "\u001b[1;32m<ipython-input-5-87810551d066>\u001b[0m in \u001b[0;36m<module>\u001b[1;34m\u001b[0m\n\u001b[1;32m----> 1\u001b[1;33m \u001b[0mn\u001b[0m\u001b[1;33m=\u001b[0m\u001b[0mint\u001b[0m\u001b[1;33m(\u001b[0m\u001b[0minput\u001b[0m\u001b[1;33m(\u001b[0m\u001b[1;33m)\u001b[0m\u001b[1;33m)\u001b[0m\u001b[1;33m\u001b[0m\u001b[1;33m\u001b[0m\u001b[0m\n\u001b[0m\u001b[0;32m      2\u001b[0m \u001b[0mstring\u001b[0m\u001b[1;33m=\u001b[0m\u001b[0mlist\u001b[0m\u001b[1;33m(\u001b[0m\u001b[0minput\u001b[0m\u001b[1;33m(\u001b[0m\u001b[1;33m)\u001b[0m\u001b[1;33m.\u001b[0m\u001b[0msplit\u001b[0m\u001b[1;33m(\u001b[0m\u001b[1;34m\",\"\u001b[0m\u001b[1;33m)\u001b[0m\u001b[1;33m)\u001b[0m\u001b[1;33m\u001b[0m\u001b[1;33m\u001b[0m\u001b[0m\n\u001b[0;32m      3\u001b[0m \u001b[0mrank\u001b[0m\u001b[1;33m=\u001b[0m\u001b[0mint\u001b[0m\u001b[1;33m(\u001b[0m\u001b[0minput\u001b[0m\u001b[1;33m(\u001b[0m\u001b[1;33m)\u001b[0m\u001b[1;33m)\u001b[0m\u001b[1;33m\u001b[0m\u001b[1;33m\u001b[0m\u001b[0m\n\u001b[0;32m      4\u001b[0m \u001b[1;33m\u001b[0m\u001b[0m\n\u001b[0;32m      5\u001b[0m \u001b[0mset1\u001b[0m\u001b[1;33m=\u001b[0m\u001b[1;33m{\u001b[0m\u001b[1;34m\"\"\u001b[0m\u001b[1;33m}\u001b[0m\u001b[1;33m\u001b[0m\u001b[1;33m\u001b[0m\u001b[0m\n",
      "\u001b[1;32m~\\anaconda3\\lib\\site-packages\\ipykernel\\kernelbase.py\u001b[0m in \u001b[0;36mraw_input\u001b[1;34m(self, prompt)\u001b[0m\n\u001b[0;32m    858\u001b[0m                 \u001b[1;34m\"raw_input was called, but this frontend does not support input requests.\"\u001b[0m\u001b[1;33m\u001b[0m\u001b[1;33m\u001b[0m\u001b[0m\n\u001b[0;32m    859\u001b[0m             )\n\u001b[1;32m--> 860\u001b[1;33m         return self._input_request(str(prompt),\n\u001b[0m\u001b[0;32m    861\u001b[0m             \u001b[0mself\u001b[0m\u001b[1;33m.\u001b[0m\u001b[0m_parent_ident\u001b[0m\u001b[1;33m,\u001b[0m\u001b[1;33m\u001b[0m\u001b[1;33m\u001b[0m\u001b[0m\n\u001b[0;32m    862\u001b[0m             \u001b[0mself\u001b[0m\u001b[1;33m.\u001b[0m\u001b[0m_parent_header\u001b[0m\u001b[1;33m,\u001b[0m\u001b[1;33m\u001b[0m\u001b[1;33m\u001b[0m\u001b[0m\n",
      "\u001b[1;32m~\\anaconda3\\lib\\site-packages\\ipykernel\\kernelbase.py\u001b[0m in \u001b[0;36m_input_request\u001b[1;34m(self, prompt, ident, parent, password)\u001b[0m\n\u001b[0;32m    902\u001b[0m             \u001b[1;32mexcept\u001b[0m \u001b[0mKeyboardInterrupt\u001b[0m\u001b[1;33m:\u001b[0m\u001b[1;33m\u001b[0m\u001b[1;33m\u001b[0m\u001b[0m\n\u001b[0;32m    903\u001b[0m                 \u001b[1;31m# re-raise KeyboardInterrupt, to truncate traceback\u001b[0m\u001b[1;33m\u001b[0m\u001b[1;33m\u001b[0m\u001b[1;33m\u001b[0m\u001b[0m\n\u001b[1;32m--> 904\u001b[1;33m                 \u001b[1;32mraise\u001b[0m \u001b[0mKeyboardInterrupt\u001b[0m\u001b[1;33m(\u001b[0m\u001b[1;34m\"Interrupted by user\"\u001b[0m\u001b[1;33m)\u001b[0m \u001b[1;32mfrom\u001b[0m \u001b[1;32mNone\u001b[0m\u001b[1;33m\u001b[0m\u001b[1;33m\u001b[0m\u001b[0m\n\u001b[0m\u001b[0;32m    905\u001b[0m             \u001b[1;32mexcept\u001b[0m \u001b[0mException\u001b[0m \u001b[1;32mas\u001b[0m \u001b[0me\u001b[0m\u001b[1;33m:\u001b[0m\u001b[1;33m\u001b[0m\u001b[1;33m\u001b[0m\u001b[0m\n\u001b[0;32m    906\u001b[0m                 \u001b[0mself\u001b[0m\u001b[1;33m.\u001b[0m\u001b[0mlog\u001b[0m\u001b[1;33m.\u001b[0m\u001b[0mwarning\u001b[0m\u001b[1;33m(\u001b[0m\u001b[1;34m\"Invalid Message:\"\u001b[0m\u001b[1;33m,\u001b[0m \u001b[0mexc_info\u001b[0m\u001b[1;33m=\u001b[0m\u001b[1;32mTrue\u001b[0m\u001b[1;33m)\u001b[0m\u001b[1;33m\u001b[0m\u001b[1;33m\u001b[0m\u001b[0m\n",
      "\u001b[1;31mKeyboardInterrupt\u001b[0m: Interrupted by user"
     ]
    }
   ],
   "source": [
    "lis=[\"aa\",\"bb\",\"cc\"]\n",
    "n=3\n",
    "newlist=[\"\"]\n",
    "for i in range(n):\n",
    "    for j in range(i,n):\n",
    "        newlist.append(lis[])\n",
    "        \n"
   ]
  },
  {
   "cell_type": "code",
   "execution_count": 8,
   "metadata": {},
   "outputs": [
    {
     "ename": "AttributeError",
     "evalue": "'set' object has no attribute 'append'",
     "output_type": "error",
     "traceback": [
      "\u001b[1;31m---------------------------------------------------------------------------\u001b[0m",
      "\u001b[1;31mAttributeError\u001b[0m                            Traceback (most recent call last)",
      "\u001b[1;32m<ipython-input-8-4268cfecb6f7>\u001b[0m in \u001b[0;36m<module>\u001b[1;34m\u001b[0m\n\u001b[0;32m      1\u001b[0m \u001b[0mset1\u001b[0m\u001b[1;33m=\u001b[0m\u001b[0mset\u001b[0m\u001b[1;33m(\u001b[0m\u001b[1;33m{\u001b[0m\u001b[1;33m}\u001b[0m\u001b[1;33m)\u001b[0m\u001b[1;33m\u001b[0m\u001b[1;33m\u001b[0m\u001b[0m\n\u001b[1;32m----> 2\u001b[1;33m \u001b[0mset1\u001b[0m\u001b[1;33m.\u001b[0m\u001b[0mappend\u001b[0m\u001b[1;33m(\u001b[0m\u001b[1;33m{\u001b[0m\u001b[1;34m\"as\"\u001b[0m\u001b[1;33m}\u001b[0m\u001b[1;33m)\u001b[0m\u001b[1;33m\u001b[0m\u001b[1;33m\u001b[0m\u001b[0m\n\u001b[0m",
      "\u001b[1;31mAttributeError\u001b[0m: 'set' object has no attribute 'append'"
     ]
    }
   ],
   "source": [
    "set1=set({})\n",
    "set1.append({\"as\"})"
   ]
  },
  {
   "cell_type": "code",
   "execution_count": 9,
   "metadata": {},
   "outputs": [],
   "source": [
    "from itertools import chain, combinations\n",
    "\n",
    "def powerset(iterable):\n",
    "    \n",
    "    s = iterable\n",
    "    return chain.from_iterable(combinations(s, r) for r in range(len(s)+1))"
   ]
  },
  {
   "cell_type": "code",
   "execution_count": 23,
   "metadata": {},
   "outputs": [],
   "source": [
    "output=list(powerset([\"abc\",\"dab\"]))"
   ]
  },
  {
   "cell_type": "code",
   "execution_count": 24,
   "metadata": {},
   "outputs": [
    {
     "name": "stdout",
     "output_type": "stream",
     "text": [
      "() 1\n",
      "('abc',) 2\n",
      "('dab',) 3\n",
      "('bc',) 4\n",
      "('abc', 'dab') 5\n",
      "('abc', 'bc') 6\n",
      "('dab', 'bc') 7\n",
      "('abc', 'dab', 'bc') 8\n"
     ]
    }
   ],
   "source": [
    "for i in range(len(output)):-\n",
    "    print(output[i],i+1)\n",
    "# final=\",\".join(output[rank-1])"
   ]
  },
  {
   "cell_type": "code",
   "execution_count": 22,
   "metadata": {},
   "outputs": [
    {
     "data": {
      "text/plain": [
       "'a,b'"
      ]
     },
     "execution_count": 22,
     "metadata": {},
     "output_type": "execute_result"
    }
   ],
   "source": [
    "final"
   ]
  },
  {
   "cell_type": "code",
   "execution_count": 18,
   "metadata": {},
   "outputs": [
    {
     "name": "stdout",
     "output_type": "stream",
     "text": [
      "7 23\n",
      "10 2 3 4 5 7 8\n",
      "-1\n"
     ]
    }
   ],
   "source": [
    "n,m=input().split()\n",
    "list1=list(map(int,input().strip().split()))[:int(n)]\n",
    "list2=[]\n",
    "\n",
    "def combinations(array, tuple_length, prev_array=[]):\n",
    "    if len(prev_array) == tuple_length:\n",
    "        return [prev_array]\n",
    "    combs = []\n",
    "    for i, val in enumerate(array):\n",
    "        prev_array_extended = prev_array.copy()\n",
    "        prev_array_extended.append(val)\n",
    "        combs += combinations(array[i+1:], tuple_length, prev_array_extended)\n",
    "    return combs\n",
    "\n",
    "list2=combinations(list1, 4)\n",
    "print(list2)\n",
    "final=[]\n",
    "if len(list2)>0:\n",
    "\n",
    "    for j in range(len(list2)):\n",
    "        list2[j]=sorted(list2[j])\n",
    "    for i in list2:\n",
    "        if i not in final and sum(i)==int(m):\n",
    "            final.append(i)\n",
    "    for i in final:\n",
    "\n",
    "        for  j in range(len(i)):\n",
    "            print(i[j],end=\" \")\n",
    "        print(\"$\",end=\"\")\n",
    "else:\n",
    "    print(-1)\n",
    "\n",
    "    "
   ]
  },
  {
   "cell_type": "code",
   "execution_count": 10,
   "metadata": {},
   "outputs": [
    {
     "data": {
      "text/plain": [
       "{1}"
      ]
     },
     "execution_count": 10,
     "metadata": {},
     "output_type": "execute_result"
    }
   ],
   "source": [
    "lis=[1,1]\n",
    "set(lis)"
   ]
  },
  {
   "cell_type": "code",
   "execution_count": null,
   "metadata": {},
   "outputs": [],
   "source": [
    "#mutate and #transmute functions used for adding new column\n",
    "#mutate returns new col and prev col\n",
    "mutate(d, x3=ht+age)\n",
    "\n",
    "#transmute returns newly added column\n",
    "\n",
    "transmute(d, x=ht+age)\n",
    "mutate(d, x3 = ht+age)\n",
    "# summarize() condensing various values to one  value\n",
    "summarise(d,mean(age))\n",
    "summarise(d,mean=mean(age))\n",
    "summarise(d,median(age))\n",
    "summarise(d,mode(age))\n",
    "summarise(d,min(age))\n",
    "summarise(d,max(age))\n",
    "\n",
    "#sample_n() and sample_frac() used to give random rows\n",
    "sample_n(d,3)\n",
    "sample_frac(d,0.50) #print 50% of rows\n",
    "\n",
    "install.packages(\"tidyr\") #used to arrange data for our requirement\n",
    "library(tidyr)\n",
    "\n",
    "n=10\n",
    "tidy_dataframe = data.frame(\n",
    "  s_no = c(1:n),\n",
    "  group.1 = c(23,345,76,212,88),\n",
    "  group.2 = c(113,123,112,111,22),\n",
    "  group.3 = c(29,20,128,129,187)\n",
    "  \n",
    ")\n",
    "tidy_dataframe\n",
    "\n",
    "#gather ( it takes multiple columns and gathers it)\n",
    "long <- tidy_dataframe %>%\n",
    "  gather(group, Frequenc,\n",
    "         group.1:group.3)\n",
    "long"
   ]
  },
  {
   "cell_type": "code",
   "execution_count": 1,
   "metadata": {},
   "outputs": [
    {
     "data": {
      "text/plain": [
       "7"
      ]
     },
     "execution_count": 1,
     "metadata": {},
     "output_type": "execute_result"
    }
   ],
   "source": [
    "num=2\n",
    "num=(num>>1) +num +(num<<1)\n",
    "num"
   ]
  },
  {
   "cell_type": "code",
   "execution_count": 2,
   "metadata": {},
   "outputs": [
    {
     "name": "stdout",
     "output_type": "stream",
     "text": [
      "1\n",
      "2\n",
      "4\n",
      "7\n"
     ]
    }
   ],
   "source": [
    "values=[1,2,4,7]\n",
    "nums=set(values)\n",
    "def checkit(num):\n",
    "    if num in nums:\n",
    "        return True\n",
    "    else:\n",
    "        return False\n",
    "for i in filter(checkit,values):\n",
    "    print(i)"
   ]
  },
  {
   "cell_type": "code",
   "execution_count": 3,
   "metadata": {},
   "outputs": [
    {
     "name": "stdout",
     "output_type": "stream",
     "text": [
      "91 0\n"
     ]
    }
   ],
   "source": [
    "num1=10\n",
    "if num1>=90:\n",
    "    num2=5\n",
    "else:\n",
    "    if num1<10:\n",
    "        num2=8\n",
    "    else:\n",
    "        num2=9\n",
    "x=num2*num1+1\n",
    "print(x,x%7)"
   ]
  },
  {
   "cell_type": "code",
   "execution_count": 6,
   "metadata": {},
   "outputs": [
    {
     "name": "stdout",
     "output_type": "stream",
     "text": [
      "Hi, Utrade Solutions\n"
     ]
    }
   ],
   "source": [
    "class A:\n",
    "    def func(self):\n",
    "        print(\"Hi\")\n",
    "    def utrade(self):\n",
    "        print(\"Hi, Utrade Solutions\")\n",
    "A.func=A.utrade\n",
    "a = A()\n",
    "a.func()"
   ]
  },
  {
   "cell_type": "code",
   "execution_count": null,
   "metadata": {},
   "outputs": [],
   "source": [
    "def binarySearch(lis):\n",
    "    mid=len(lis)/2\n",
    "    if lis[mid==]"
   ]
  },
  {
   "cell_type": "code",
   "execution_count": 7,
   "metadata": {},
   "outputs": [
    {
     "name": "stdout",
     "output_type": "stream",
     "text": [
      "0\n",
      "1\n",
      "2\n",
      "3\n",
      "False\n",
      "0\n",
      "True\n"
     ]
    }
   ],
   "source": [
    "def binarySearchdc(alist,item):\n",
    "    \n",
    "    if len(alist)==0:\n",
    "        return False\n",
    "    else:\n",
    "        midpoint=len(alist)//2\n",
    "        if alist[midpoint]==item:\n",
    "            return True\n",
    "        else:\n",
    "            if item<alist[midpoint]:\n",
    "                return binarySearchdc(alist[0:midpoint],item)\n",
    "            else:\n",
    "                return binarySearchdc(alist[midpoint+1:],item)\n",
    "            \n",
    "testlist = [0, 1, 2, 8, 13, 17, 19, 32, 42,3]\n",
    "print(binarySearchdc(testlist, 3))\n",
    "print(binarySearchdc(testlist, 13))"
   ]
  },
  {
   "cell_type": "code",
   "execution_count": 12,
   "metadata": {},
   "outputs": [
    {
     "name": "stdout",
     "output_type": "stream",
     "text": [
      "[12, 2, 3]\n",
      "[12, 2, 8]\n"
     ]
    }
   ],
   "source": [
    "a=[12,2,34]\n",
    "a[2]=8\n",
    "b=a.copy()\n",
    "b[2]=3\n",
    "print(b)\n",
    "print(a)"
   ]
  },
  {
   "cell_type": "code",
   "execution_count": null,
   "metadata": {},
   "outputs": [],
   "source": []
  }
 ],
 "metadata": {
  "kernelspec": {
   "display_name": "Python 3",
   "language": "python",
   "name": "python3"
  },
  "language_info": {
   "codemirror_mode": {
    "name": "ipython",
    "version": 3
   },
   "file_extension": ".py",
   "mimetype": "text/x-python",
   "name": "python",
   "nbconvert_exporter": "python",
   "pygments_lexer": "ipython3",
   "version": "3.8.5"
  }
 },
 "nbformat": 4,
 "nbformat_minor": 4
}
