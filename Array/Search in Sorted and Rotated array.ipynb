{
 "cells": [
  {
   "cell_type": "code",
   "execution_count": 32,
   "metadata": {},
   "outputs": [
    {
     "name": "stdout",
     "output_type": "stream",
     "text": [
      "Key Found at index  2\n"
     ]
    }
   ],
   "source": [
    "def binary_search(array, key, left, right):\n",
    "    if left >right :\n",
    "        return -1\n",
    "    \n",
    "    mid =(left+right)//2\n",
    "    if (array[mid]==key):\n",
    "        return mid\n",
    "    \n",
    "    if(array[left]<=array[mid]):\n",
    "        if key>= array[left] and key <= array[mid]:\n",
    "            return binary_search(array,key,left,mid-1)\n",
    "        return binary_search(array,key,mid+1,right)\n",
    "    if (key>=array[mid] and key <=array[right]):\n",
    "        return binary_search(array, key, mid+1, right)\n",
    "    \n",
    "    return binary_search(array,key,left,mid-1)\n",
    "\n",
    "array=[6,7,8,9,10,1,2,5]\n",
    "key=8\n",
    "answer=binary_search2(array,key,0,len(array)-1)\n",
    "\n",
    "print(\"Key Found at index \",answer)"
   ]
  },
  {
   "cell_type": "code",
   "execution_count": 31,
   "metadata": {},
   "outputs": [],
   "source": [
    "def binary_search2(arr,key,left,right):\n",
    "    if left>right:\n",
    "        return \"Not Found\"\n",
    "    mid=(left+right)//2\n",
    "    if arr[mid]==key:\n",
    "        return mid\n",
    "    if arr[left]<=arr[mid]:\n",
    "        if arr[left] <= key<=arr[mid]:\n",
    "            return binary_search2(arr,key,left,mid-1)\n",
    "        return binary_search2(arr,key,mid+1,right)\n",
    "        \n",
    "    if key>=arr[mid] and key<=arr[right]:\n",
    "        return binary_search2(arr,key,mid+1,right)\n",
    "    return binary_search2(array,key,left,mid-1)\n",
    "        \n",
    "\n",
    "        "
   ]
  },
  {
   "cell_type": "code",
   "execution_count": null,
   "metadata": {},
   "outputs": [],
   "source": []
  }
 ],
 "metadata": {
  "kernelspec": {
   "display_name": "Python 3",
   "language": "python",
   "name": "python3"
  },
  "language_info": {
   "codemirror_mode": {
    "name": "ipython",
    "version": 3
   },
   "file_extension": ".py",
   "mimetype": "text/x-python",
   "name": "python",
   "nbconvert_exporter": "python",
   "pygments_lexer": "ipython3",
   "version": "3.8.5"
  }
 },
 "nbformat": 4,
 "nbformat_minor": 4
}
