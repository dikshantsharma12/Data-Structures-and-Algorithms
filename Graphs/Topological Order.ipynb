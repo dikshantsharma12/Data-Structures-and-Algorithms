{
 "cells": [
  {
   "cell_type": "code",
   "execution_count": 1,
   "metadata": {},
   "outputs": [
    {
     "name": "stdout",
     "output_type": "stream",
     "text": [
      "1 2\n"
     ]
    }
   ],
   "source": [
    "n=int(input())\n",
    "m=int(input())\n",
    "count=0\n",
    "adj=[]\n",
    "indeg="
   ]
  },
  {
   "cell_type": "code",
   "execution_count": 1,
   "metadata": {},
   "outputs": [
    {
     "name": "stdout",
     "output_type": "stream",
     "text": [
      "Following is a Topological Sort of the given graph\n",
      "[5, 4, 2, 3, 1, 0]\n"
     ]
    }
   ],
   "source": [
    "from collections import defaultdict\n",
    "\n",
    " \n",
    "class Graph:\n",
    "    def __init__(self, vertices):\n",
    "        self.graph = defaultdict(list) \n",
    "        self.V = vertices  \n",
    "\n",
    "    def addEdge(self, u, v):\n",
    "        self.graph[u].append(v)\n",
    "\n",
    "    def topologicalSortUtil(self, v, visited, stack):\n",
    " \n",
    "\n",
    "        visited[v] = True\n",
    "\n",
    "        for i in self.graph[v]:\n",
    "            if visited[i] == False:\n",
    "                self.topologicalSortUtil(i, visited, stack)\n",
    " \n",
    "        stack.append(v)\n",
    " \n",
    "\n",
    "    def topologicalSort(self):\n",
    "\n",
    "        visited = [False]*self.V\n",
    "        stack = []\n",
    "\n",
    "        for i in range(self.V):\n",
    "            if visited[i] == False:\n",
    "                self.topologicalSortUtil(i, visited, stack)\n",
    " \n",
    "\n",
    "        print(stack[::-1])  \n",
    "\n",
    "g = Graph(6)\n",
    "g.addEdge(5, 2)\n",
    "g.addEdge(5, 0)\n",
    "g.addEdge(4, 0)\n",
    "g.addEdge(4, 1)\n",
    "g.addEdge(2, 3)\n",
    "g.addEdge(3, 1)\n",
    " \n",
    "print (\"Following is a Topological Sort of the given graph\")\n",
    "\n",
    "g.topologicalSort()"
   ]
  },
  {
   "cell_type": "code",
   "execution_count": 6,
   "metadata": {},
   "outputs": [
    {
     "name": "stdout",
     "output_type": "stream",
     "text": [
      "3\n",
      "isFibo\n"
     ]
    }
   ],
   "source": []
  },
  {
   "cell_type": "code",
   "execution_count": null,
   "metadata": {},
   "outputs": [],
   "source": []
  }
 ],
 "metadata": {
  "kernelspec": {
   "display_name": "Python 3",
   "language": "python",
   "name": "python3"
  },
  "language_info": {
   "codemirror_mode": {
    "name": "ipython",
    "version": 3
   },
   "file_extension": ".py",
   "mimetype": "text/x-python",
   "name": "python",
   "nbconvert_exporter": "python",
   "pygments_lexer": "ipython3",
   "version": "3.8.5"
  }
 },
 "nbformat": 4,
 "nbformat_minor": 4
}
