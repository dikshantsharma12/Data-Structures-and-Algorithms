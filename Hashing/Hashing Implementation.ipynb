{
 "cells": [
  {
   "cell_type": "code",
   "execution_count": 16,
   "metadata": {},
   "outputs": [
    {
     "name": "stdout",
     "output_type": "stream",
     "text": [
      "[77, 44, 55, 20, 26, 93, 17, None, None, 31, 54]\n",
      "['bird', 'goat', 'pig', 'chicken', 'dog', 'lion', 'tiger', None, None, 'cow', 'cat']\n",
      "chicken\n",
      "tiger\n",
      "duck\n",
      "None\n"
     ]
    }
   ],
   "source": [
    "class HashTable:\n",
    "    def __init__(self):\n",
    "        self.size=11\n",
    "        self.slots=[None]*self.size\n",
    "        self.data=[None]*self.size\n",
    "    def put(self,key,data):\n",
    "        hashvalue=self.hashfunction(key,len(self.slots))\n",
    "\n",
    "        if self.slots[hashvalue]==None:\n",
    "            self.slots[hashvalue]=key\n",
    "            self.data[hashvalue]=data\n",
    "        else:\n",
    "            if self.slots[hashvalue]==key:\n",
    "                slef.data[hashvalue]=data\n",
    "            else:\n",
    "                nextslot=self.rehash(hashvalue,len(self.slots))\n",
    "                while self.slots[nextslot] != None and self.slots[nextslot]!=key:\n",
    "                    nextslot=self.rehash(nextslot,len(self.slots))\n",
    "                if self.slots[nextslot]==None:\n",
    "                    self.slots[nextslot]=key\n",
    "                    self.data[nextslot]=data\n",
    "                else:\n",
    "                    self.data[nextslot]=data\n",
    "\n",
    "    def hashfunction(self,key,size):\n",
    "        return key%size\n",
    "    def rehash(self,oldhash,size):\n",
    "        return(oldhash+1)%size\n",
    "    def get(self,key):\n",
    "        startslot = self.hashfunction(key,len(self.slots))\n",
    "\n",
    "        data= None\n",
    "        stop =False\n",
    "        found = False\n",
    "        position= startslot\n",
    "\n",
    "        while self.slots[position]!=None and not found and not stop:\n",
    "            if self.slots[position]==key:\n",
    "                found=True\n",
    "                data = self.data[position]\n",
    "            else:\n",
    "                position= self.rehash(position,len(self.slots))\n",
    "                if position ==startslot:\n",
    "                    stop = True\n",
    "        return data\n",
    "    def __getitem__(self,key):\n",
    "        return self.get(key)\n",
    "    def __setitem__(self,key,data):\n",
    "        self.put(key,data)\n",
    "H=HashTable()\n",
    "H[54]=\"cat\"\n",
    "H[26]=\"dog\"\n",
    "H[93]=\"lion\"\n",
    "H[17]=\"tiger\"\n",
    "H[77]=\"bird\"\n",
    "H[31]=\"cow\"\n",
    "H[44]=\"goat\"\n",
    "H[55]=\"pig\"\n",
    "H[20]=\"chicken\"\n",
    "print(H.slots)\n",
    "print(H.data)\n",
    "\n",
    "print(H[20])\n",
    "\n",
    "print(H[17])\n",
    "H[20]='duck'\n",
    "print(H[20])\n",
    "print(H[99])"
   ]
  },
  {
   "cell_type": "code",
   "execution_count": null,
   "metadata": {},
   "outputs": [],
   "source": []
  },
  {
   "cell_type": "code",
   "execution_count": null,
   "metadata": {},
   "outputs": [],
   "source": []
  }
 ],
 "metadata": {
  "kernelspec": {
   "display_name": "Python 3",
   "language": "python",
   "name": "python3"
  },
  "language_info": {
   "codemirror_mode": {
    "name": "ipython",
    "version": 3
   },
   "file_extension": ".py",
   "mimetype": "text/x-python",
   "name": "python",
   "nbconvert_exporter": "python",
   "pygments_lexer": "ipython3",
   "version": "3.8.5"
  }
 },
 "nbformat": 4,
 "nbformat_minor": 4
}
