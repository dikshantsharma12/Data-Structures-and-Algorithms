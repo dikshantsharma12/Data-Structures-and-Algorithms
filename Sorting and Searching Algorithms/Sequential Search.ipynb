{
 "cells": [
  {
   "cell_type": "code",
   "execution_count": 3,
   "metadata": {},
   "outputs": [
    {
     "name": "stdout",
     "output_type": "stream",
     "text": [
      "Enter The Size of Array5\n",
      "\n",
      " Enter the Number1 2 3 4 5 \n",
      "True\n",
      "False\n"
     ]
    }
   ],
   "source": [
    "def sequentialSearch(alist,item):\n",
    "    pos=0\n",
    "    found=False\n",
    "    while pos<len(alist) and not found:\n",
    "        if alist[pos]==item:\n",
    "            found=True\n",
    "        else:\n",
    "            pos=pos+1\n",
    "    return found\n",
    "n=int(input(\"Enter The Size of Array\"))\n",
    "alist=list(map(int,input(\"\\n Enter the Number\").strip().split(\" \")))[:n]\n",
    "print(sequentialSearch(alist,3))\n",
    "print(sequentialSearch(alist,13))"
   ]
  },
  {
   "cell_type": "code",
   "execution_count": 5,
   "metadata": {},
   "outputs": [],
   "source": [
    "# Case            Best Case     Worst Case     Average Case\n",
    "\n",
    "# item is present        1              n          n2\n",
    "\n",
    "# item is not present    n              n           n"
   ]
  },
  {
   "cell_type": "markdown",
   "metadata": {},
   "source": [
    "### Sequential search in ordered list"
   ]
  },
  {
   "cell_type": "code",
   "execution_count": 6,
   "metadata": {},
   "outputs": [
    {
     "name": "stdout",
     "output_type": "stream",
     "text": [
      "False\n",
      "True\n"
     ]
    }
   ],
   "source": [
    "def orderedSequentialSearch(alist,item):\n",
    "    pos=0\n",
    "    found=False\n",
    "    stop=False\n",
    "    while pos<len(alist) and not found and not stop:\n",
    "        if alist[pos]==item:\n",
    "            found=True\n",
    "        else:\n",
    "            if alist[pos]>item:\n",
    "                stop=True\n",
    "            else:\n",
    "                pos=pos+1\n",
    "    return found\n",
    "testlist = [0, 1, 2, 8, 13, 17, 19, 32, 42,]\n",
    "print(orderedSequentialSearch(testlist, 3))\n",
    "print(orderedSequentialSearch(testlist, 13))"
   ]
  },
  {
   "cell_type": "code",
   "execution_count": 9,
   "metadata": {},
   "outputs": [
    {
     "data": {
      "text/plain": [
       "65"
      ]
     },
     "execution_count": 9,
     "metadata": {},
     "output_type": "execute_result"
    }
   ],
   "source": [
    "ord(\"z\")"
   ]
  },
  {
   "cell_type": "code",
   "execution_count": null,
   "metadata": {},
   "outputs": [],
   "source": []
  }
 ],
 "metadata": {
  "kernelspec": {
   "display_name": "Python 3",
   "language": "python",
   "name": "python3"
  },
  "language_info": {
   "codemirror_mode": {
    "name": "ipython",
    "version": 3
   },
   "file_extension": ".py",
   "mimetype": "text/x-python",
   "name": "python",
   "nbconvert_exporter": "python",
   "pygments_lexer": "ipython3",
   "version": "3.8.5"
  }
 },
 "nbformat": 4,
 "nbformat_minor": 4
}
