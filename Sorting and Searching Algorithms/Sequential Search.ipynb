{
 "cells": [
  {
   "cell_type": "code",
   "execution_count": 3,
   "metadata": {},
   "outputs": [
    {
     "name": "stdout",
     "output_type": "stream",
     "text": [
      "Enter The Size of Array5\n",
      "\n",
      " Enter the Number1 2 3 4 5 \n",
      "True\n",
      "False\n"
     ]
    }
   ],
   "source": [
    "def sequentialSearch(alist,item):\n",
    "    pos=0\n",
    "    found=False\n",
    "    while pos<len(alist) and not found:\n",
    "        if alist[pos]==item:\n",
    "            found=True\n",
    "        else:\n",
    "            pos=pos+1\n",
    "    return found\n",
    "n=int(input(\"Enter The Size of Array\"))\n",
    "alist=list(map(int,input(\"\\n Enter the Number\").strip().split(\" \")))[:n]\n",
    "print(sequentialSearch(alist,3))\n",
    "print(sequentialSearch(alist,13))"
   ]
  },
  {
   "cell_type": "code",
   "execution_count": null,
   "metadata": {},
   "outputs": [],
   "source": []
  }
 ],
 "metadata": {
  "kernelspec": {
   "display_name": "Python 3",
   "language": "python",
   "name": "python3"
  },
  "language_info": {
   "codemirror_mode": {
    "name": "ipython",
    "version": 3
   },
   "file_extension": ".py",
   "mimetype": "text/x-python",
   "name": "python",
   "nbconvert_exporter": "python",
   "pygments_lexer": "ipython3",
   "version": "3.8.5"
  }
 },
 "nbformat": 4,
 "nbformat_minor": 4
}
