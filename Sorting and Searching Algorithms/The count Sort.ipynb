{
 "cells": [
  {
   "cell_type": "code",
   "execution_count": 24,
   "metadata": {},
   "outputs": [
    {
     "name": "stdout",
     "output_type": "stream",
     "text": [
      "Before Updating [0, 2, 1, 3, 2, 0, 1]\n",
      "After Updating [0, 2, 3, 6, 8, 8, 9]\n",
      "Final Array [1, 1, 2, 3, 3, 3, 4, 4, 6]\n"
     ]
    }
   ],
   "source": [
    "def countSort(alist):\n",
    "    countlist=[0]*(max(alist)+1)\n",
    "    final_array=[0]*len(alist)\n",
    "    i=0\n",
    "    while i<len(alist):\n",
    "            countlist[alist[i]]=countlist[alist[i]]+1\n",
    "            i+=1\n",
    "    print(\"Before Updating\",countlist)\n",
    "    for i in range(1,len(countlist)):\n",
    "        countlist[i]=countlist[i-1]+countlist[i]\n",
    "\n",
    "    print(\"After Updating\",countlist)\n",
    "    for i in range(len(alist),0,-1):\n",
    "        final_array[countlist[alist[i-1]]-1]=alist[i-1]\n",
    "        countlist[alist[i-1]]-=1\n",
    "    print(\"Final Array\",final_array )  \n",
    "\n",
    "alist=[1,3,2,3,4,1,6,4,3]\n",
    "countSort(alist)\n"
   ]
  },
  {
   "cell_type": "code",
   "execution_count": 21,
   "metadata": {},
   "outputs": [],
   "source": [
    "\n"
   ]
  },
  {
   "cell_type": "code",
   "execution_count": null,
   "metadata": {},
   "outputs": [],
   "source": []
  },
  {
   "cell_type": "code",
   "execution_count": null,
   "metadata": {},
   "outputs": [],
   "source": []
  }
 ],
 "metadata": {
  "kernelspec": {
   "display_name": "Python 3",
   "language": "python",
   "name": "python3"
  },
  "language_info": {
   "codemirror_mode": {
    "name": "ipython",
    "version": 3
   },
   "file_extension": ".py",
   "mimetype": "text/x-python",
   "name": "python",
   "nbconvert_exporter": "python",
   "pygments_lexer": "ipython3",
   "version": "3.8.5"
  }
 },
 "nbformat": 4,
 "nbformat_minor": 4
}
