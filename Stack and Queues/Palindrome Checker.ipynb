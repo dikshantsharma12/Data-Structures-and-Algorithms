{
 "cells": [
  {
   "cell_type": "code",
   "execution_count": 8,
   "metadata": {},
   "outputs": [
    {
     "name": "stdout",
     "output_type": "stream",
     "text": [
      "False\n",
      "True\n"
     ]
    }
   ],
   "source": [
    "from pythonds import Deque\n",
    "\n",
    "def palchecker(astring):\n",
    "    chardeque=Deque()\n",
    "    \n",
    "    for ch in astring:\n",
    "        chardeque.addFront(ch)\n",
    "        \n",
    "    \n",
    "    Equal =True\n",
    "    \n",
    "    while chardeque.size()>1 and Equal:\n",
    "        first=chardeque.removeFront()\n",
    "        last=chardeque.removeRear()\n",
    "        \n",
    "        if first != last:\n",
    "            Equal=False\n",
    "    return Equal\n",
    "print(palchecker(\"lsdkjfskf\"))\n",
    "print(palchecker(\"radar\"))"
   ]
  },
  {
   "cell_type": "code",
   "execution_count": null,
   "metadata": {},
   "outputs": [],
   "source": []
  }
 ],
 "metadata": {
  "kernelspec": {
   "display_name": "Python 3",
   "language": "python",
   "name": "python3"
  },
  "language_info": {
   "codemirror_mode": {
    "name": "ipython",
    "version": 3
   },
   "file_extension": ".py",
   "mimetype": "text/x-python",
   "name": "python",
   "nbconvert_exporter": "python",
   "pygments_lexer": "ipython3",
   "version": "3.8.5"
  }
 },
 "nbformat": 4,
 "nbformat_minor": 4
}
