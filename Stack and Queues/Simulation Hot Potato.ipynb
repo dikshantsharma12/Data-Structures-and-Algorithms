{
 "cells": [
  {
   "cell_type": "code",
   "execution_count": 16,
   "metadata": {},
   "outputs": [
    {
     "name": "stdout",
     "output_type": "stream",
     "text": [
      "\n",
      "Initial-> ['Brad', 'Kent', 'Jane', 'Susan', 'Bill'] \n",
      "\n",
      "['Bill', 'Brad', 'Kent', 'Jane', 'Susan']\n",
      "['Susan', 'Bill', 'Brad', 'Kent', 'Jane']\n",
      "['Jane', 'Susan', 'Bill', 'Brad', 'Kent']\n",
      "['Kent', 'Jane', 'Susan', 'Bill', 'Brad']\n",
      "['Brad', 'Kent', 'Jane', 'Susan', 'Bill']\n",
      "['Bill', 'Brad', 'Kent', 'Jane', 'Susan']\n",
      "['Susan', 'Bill', 'Brad', 'Kent', 'Jane']\n",
      "\n",
      "Initial-> ['Susan', 'Bill', 'Brad', 'Kent'] \n",
      "\n",
      "['Kent', 'Susan', 'Bill', 'Brad']\n",
      "['Brad', 'Kent', 'Susan', 'Bill']\n",
      "['Bill', 'Brad', 'Kent', 'Susan']\n",
      "['Susan', 'Bill', 'Brad', 'Kent']\n",
      "['Kent', 'Susan', 'Bill', 'Brad']\n",
      "['Brad', 'Kent', 'Susan', 'Bill']\n",
      "['Bill', 'Brad', 'Kent', 'Susan']\n",
      "\n",
      "Initial-> ['Bill', 'Brad', 'Kent'] \n",
      "\n",
      "['Kent', 'Bill', 'Brad']\n",
      "['Brad', 'Kent', 'Bill']\n",
      "['Bill', 'Brad', 'Kent']\n",
      "['Kent', 'Bill', 'Brad']\n",
      "['Brad', 'Kent', 'Bill']\n",
      "['Bill', 'Brad', 'Kent']\n",
      "['Kent', 'Bill', 'Brad']\n",
      "\n",
      "Initial-> ['Kent', 'Bill'] \n",
      "\n",
      "['Bill', 'Kent']\n",
      "['Kent', 'Bill']\n",
      "['Bill', 'Kent']\n",
      "['Kent', 'Bill']\n",
      "['Bill', 'Kent']\n",
      "['Kent', 'Bill']\n",
      "['Bill', 'Kent']\n",
      "Bill\n"
     ]
    }
   ],
   "source": [
    "class Queue:\n",
    "    def __init__(self):\n",
    "        self.items=[]\n",
    "    def enqueue(self,item):\n",
    "        self.items.insert(0,item)\n",
    "    def dequeue(self):\n",
    "        return self.items.pop()\n",
    "    def size(self):\n",
    "        return len(self.items)\n",
    "    def isEmpty(self):\n",
    "        return self.items==[]\n",
    "    def peek(self):\n",
    "        return self.items[0]\n",
    "    def ele(self):\n",
    "        return self.items\n",
    "\n",
    "def hotPotato(namelist,pos):\n",
    "    q=Queue()\n",
    "    for name in namelist:\n",
    "        q.enqueue(name)\n",
    "    while q.size()>1:\n",
    "        print(\"\\nInitial->\",q.ele(),\"\\n\")\n",
    "        for i in range(pos):\n",
    "            q.enqueue(q.dequeue())\n",
    "            print(q.ele())\n",
    "        \n",
    "        q.dequeue()\n",
    "    return q.dequeue()\n",
    "\n",
    "print(hotPotato([\"Bill\",\"Susan\",\"Jane\",\"Kent\",\"Brad\"],7))"
   ]
  },
  {
   "cell_type": "code",
   "execution_count": null,
   "metadata": {},
   "outputs": [],
   "source": []
  }
 ],
 "metadata": {
  "kernelspec": {
   "display_name": "Python 3",
   "language": "python",
   "name": "python3"
  },
  "language_info": {
   "codemirror_mode": {
    "name": "ipython",
    "version": 3
   },
   "file_extension": ".py",
   "mimetype": "text/x-python",
   "name": "python",
   "nbconvert_exporter": "python",
   "pygments_lexer": "ipython3",
   "version": "3.8.5"
  }
 },
 "nbformat": 4,
 "nbformat_minor": 4
}
