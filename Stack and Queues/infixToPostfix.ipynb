{
 "cells": [
  {
   "cell_type": "code",
   "execution_count": 4,
   "metadata": {},
   "outputs": [
    {
     "name": "stdout",
     "output_type": "stream",
     "text": [
      "A B * C D * +\n",
      "A B + C * D E - F G + * -\n"
     ]
    }
   ],
   "source": [
    "from pythonds.basic import Stack\n",
    "\n",
    "def infixToPostfix(infixexpr):\n",
    "    prec ={}\n",
    "    prec[\"*\"] = 3\n",
    "    prec[\"/\"] = 3\n",
    "    prec[\"+\"] = 2\n",
    "    prec[\"-\"] = 2\n",
    "    prec[\"(\"] = 1\n",
    "    \n",
    "    s=Stack()\n",
    "    postfixlist=[]\n",
    "    tokenlist=infixexpr.split()\n",
    "    \n",
    "    for token in tokenlist:\n",
    "        if token in \"ABCDEFGHIJKLNMOPQRSTUVWXYZ\" or token in \"0123456789\":\n",
    "            postfixlist.append(token)\n",
    "        elif token =='(':\n",
    "            s.push(token)\n",
    "        elif token ==\")\":\n",
    "            topToken =s.pop()\n",
    "            while topToken !=\"(\":\n",
    "                postfixlist.append(topToken)\n",
    "                topToken=s.pop()\n",
    "        else:\n",
    "            while (not s.isEmpty()) and (prec[s.peek()]>=prec[token]):\n",
    "                postfixlist.append(s.pop())\n",
    "            s.push(token)\n",
    "    while not s.isEmpty():\n",
    "        postfixlist.append(s.pop())\n",
    "    return \" \".join(postfixlist)\n",
    "\n",
    "\n",
    "print(infixToPostfix(\"A * B + C * D\"))\n",
    "print(infixToPostfix(\"( A + B ) * C - ( D - E ) * ( F + G )\"))"
   ]
  },
  {
   "cell_type": "code",
   "execution_count": null,
   "metadata": {},
   "outputs": [],
   "source": []
  }
 ],
 "metadata": {
  "kernelspec": {
   "display_name": "Python 3",
   "language": "python",
   "name": "python3"
  },
  "language_info": {
   "codemirror_mode": {
    "name": "ipython",
    "version": 3
   },
   "file_extension": ".py",
   "mimetype": "text/x-python",
   "name": "python",
   "nbconvert_exporter": "python",
   "pygments_lexer": "ipython3",
   "version": "3.8.5"
  }
 },
 "nbformat": 4,
 "nbformat_minor": 4
}
