{
 "cells": [
  {
   "cell_type": "code",
   "execution_count": 1,
   "metadata": {},
   "outputs": [
    {
     "name": "stdout",
     "output_type": "stream",
     "text": [
      "0 0 0 1 2 3 0 "
     ]
    }
   ],
   "source": [
    "\n",
    "def prefix(string1):\n",
    "    n=len(string1)\n",
    "    prefixIndex=[0]*n\n",
    "    for i in range(1,n):\n",
    "        j=prefixIndex[i-1]\n",
    "        while(j>0 and string1[i]!=string1[j]):\n",
    "            j=prefixIndex[j-1]\n",
    "            \n",
    "        if string1[i]==string1[j]:\n",
    "            j+=1\n",
    "        prefixIndex[i]=j\n",
    "    \n",
    "    return prefixIndex\n",
    "    \n",
    "string1=\"abcabcd\"\n",
    "res=prefix(string1)\n",
    "pos=-1\n",
    "\n",
    "for i in res:\n",
    "    print(i,end=\" \")"
   ]
  },
  {
   "cell_type": "code",
   "execution_count": null,
   "metadata": {},
   "outputs": [],
   "source": []
  }
 ],
 "metadata": {
  "kernelspec": {
   "display_name": "Python 3",
   "language": "python",
   "name": "python3"
  },
  "language_info": {
   "codemirror_mode": {
    "name": "ipython",
    "version": 3
   },
   "file_extension": ".py",
   "mimetype": "text/x-python",
   "name": "python",
   "nbconvert_exporter": "python",
   "pygments_lexer": "ipython3",
   "version": "3.8.5"
  }
 },
 "nbformat": 4,
 "nbformat_minor": 4
}
