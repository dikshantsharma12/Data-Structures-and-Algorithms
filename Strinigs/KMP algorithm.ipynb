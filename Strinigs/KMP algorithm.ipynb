{
 "cells": [
  {
   "cell_type": "code",
   "execution_count": 16,
   "metadata": {},
   "outputs": [],
   "source": [
    "def KMPSearch(string , pattern):\n",
    "    SL=len(string)\n",
    "    PL=len(pattern)\n",
    "    lps=[0]*PL\n",
    "    \n",
    "    computeLPSArray(pattern,PL,lps)\n",
    "    i=0\n",
    "    j=0\n",
    "    while i<SL-PL+1:\n",
    "        if string[i]==pattern[i]:\n",
    "            i+=1\n",
    "            j+=1\n",
    "        else:\n",
    "            if j!=0:\n",
    "                j=lps[j-1]\n",
    "            else:\n",
    "                i +=1\n",
    "        if j==PL:\n",
    "            print(i-j)\n",
    "            j=lps[j-1]\n",
    "                \n",
    "    \n",
    "def computeLPSArray(pattern, PL, lps):\n",
    "    length=0\n",
    "    i=1\n",
    "    while i<PL:\n",
    "        if pattern[i]==pattern[length]:\n",
    "            lps[i]=length+1\n",
    "            length+=1\n",
    "            i +=1\n",
    "        else:\n",
    "            if length!=0:\n",
    "                length=lps[length-1]\n",
    "            else:\n",
    "                lps[i]=0\n",
    "                i+=1\n",
    "KMPSearch(\"sfd\",\"dsdrasfdasdf\")\n",
    "        \n",
    "            "
   ]
  },
  {
   "cell_type": "code",
   "execution_count": 9,
   "metadata": {},
   "outputs": [
    {
     "name": "stdout",
     "output_type": "stream",
     "text": [
      "sadfas\n"
     ]
    }
   ],
   "source": []
  },
  {
   "cell_type": "code",
   "execution_count": null,
   "metadata": {},
   "outputs": [],
   "source": []
  },
  {
   "cell_type": "code",
   "execution_count": null,
   "metadata": {},
   "outputs": [],
   "source": []
  }
 ],
 "metadata": {
  "kernelspec": {
   "display_name": "Python 3",
   "language": "python",
   "name": "python3"
  },
  "language_info": {
   "codemirror_mode": {
    "name": "ipython",
    "version": 3
   },
   "file_extension": ".py",
   "mimetype": "text/x-python",
   "name": "python",
   "nbconvert_exporter": "python",
   "pygments_lexer": "ipython3",
   "version": "3.8.5"
  }
 },
 "nbformat": 4,
 "nbformat_minor": 4
}
