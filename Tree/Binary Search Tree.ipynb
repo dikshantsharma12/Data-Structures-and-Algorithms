{
 "cells": [
  {
   "cell_type": "code",
   "execution_count": 2,
   "metadata": {},
   "outputs": [
    {
     "name": "stdout",
     "output_type": "stream",
     "text": [
      "1\n",
      "2\n",
      "3\n",
      "4\n",
      "5\n",
      "7\n",
      "8\n"
     ]
    }
   ],
   "source": [
    "class Node:\n",
    "    def __init__(self,data):\n",
    "        self.data=data\n",
    "        self.left=None\n",
    "        self.right=None\n",
    "\n",
    "    \n",
    "def insert(root,val):\n",
    "    if root==None:\n",
    "        return Node(val)\n",
    "    if root.data == val:\n",
    "        return root\n",
    "    elif val<root.data:\n",
    "        root.left=insert(root.left,val)\n",
    "    else:\n",
    "        root.right=insert(root.right, val)\n",
    "\n",
    "    return root\n",
    "def inorder(root):\n",
    "    if root==None:\n",
    "        return \n",
    "    inorder(root.left)\n",
    "    print(root.data)\n",
    "    inorder(root.right)\n",
    "\n",
    "\n",
    "root=Node(5)\n",
    "root=insert(root,5)\n",
    "root=insert(root,1)\n",
    "root=insert(root,3)\n",
    "root=insert(root,4)\n",
    "root=insert(root,2)\n",
    "root=insert(root,7)\n",
    "root=insert(root,8)\n",
    "inorder(root)"
   ]
  },
  {
   "cell_type": "markdown",
   "metadata": {},
   "source": [
    "### Search"
   ]
  },
  {
   "cell_type": "code",
   "execution_count": 7,
   "metadata": {},
   "outputs": [
    {
     "name": "stdout",
     "output_type": "stream",
     "text": [
      "2\n"
     ]
    }
   ],
   "source": [
    "def search(root,val):\n",
    "\n",
    "        \n",
    "    if root is None or root.data == val:\n",
    "        return root\n",
    "            \n",
    "    if root.data<val:\n",
    "        \n",
    "        return search(root.right,val)\n",
    "    \n",
    "    return search(root.left,val)\n",
    "root=search(root,2)\n",
    "print(root.data)"
   ]
  },
  {
   "cell_type": "code",
   "execution_count": null,
   "metadata": {},
   "outputs": [],
   "source": []
  }
 ],
 "metadata": {
  "kernelspec": {
   "display_name": "Python 3",
   "language": "python",
   "name": "python3"
  },
  "language_info": {
   "codemirror_mode": {
    "name": "ipython",
    "version": 3
   },
   "file_extension": ".py",
   "mimetype": "text/x-python",
   "name": "python",
   "nbconvert_exporter": "python",
   "pygments_lexer": "ipython3",
   "version": "3.8.5"
  }
 },
 "nbformat": 4,
 "nbformat_minor": 4
}
