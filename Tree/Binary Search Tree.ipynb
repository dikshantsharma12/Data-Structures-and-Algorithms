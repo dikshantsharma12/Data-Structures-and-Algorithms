{
 "cells": [
  {
   "cell_type": "code",
   "execution_count": 28,
   "metadata": {},
   "outputs": [
    {
     "name": "stdout",
     "output_type": "stream",
     "text": [
      "1\n",
      "2\n",
      "3\n",
      "4\n",
      "5\n",
      "7\n",
      "8\n"
     ]
    }
   ],
   "source": [
    "class Node:\n",
    "    def __init__(self,data):\n",
    "        self.data=data\n",
    "        self.left=None\n",
    "        self.right=None\n",
    "\n",
    "    \n",
    "def insert(root,val):\n",
    "    if root==None:\n",
    "        return Node(val)\n",
    "    if root.data == val:\n",
    "        return root\n",
    "    elif val<root.data:\n",
    "        root.left=insert(root.left,val)\n",
    "    else:\n",
    "        root.right=insert(root.right, val)\n",
    "\n",
    "    return root\n",
    "def inorder(root):\n",
    "    if root==None:\n",
    "        return \n",
    "    inorder(root.left)\n",
    "    print(root.data)\n",
    "    inorder(root.right)\n",
    "\n",
    "\n",
    "root=Node(5)\n",
    "root=insert(root,5)\n",
    "root=insert(root,1)\n",
    "root=insert(root,3)\n",
    "root=insert(root,4)\n",
    "root=insert(root,2)\n",
    "root=insert(root,7)\n",
    "root=insert(root,8)\n",
    "inorder(root)"
   ]
  },
  {
   "cell_type": "markdown",
   "metadata": {},
   "source": [
    "### Search"
   ]
  },
  {
   "cell_type": "code",
   "execution_count": 20,
   "metadata": {},
   "outputs": [
    {
     "name": "stdout",
     "output_type": "stream",
     "text": [
      "2\n"
     ]
    }
   ],
   "source": [
    "def search(root,val):\n",
    "\n",
    "        \n",
    "    if root is None or root.data == val:\n",
    "        return root\n",
    "            \n",
    "    if root.data<val:\n",
    "        \n",
    "        return search(root.right,val)\n",
    "    \n",
    "    return search(root.left,val)\n",
    "root=search(root,2)\n",
    "print(root.data)"
   ]
  },
  {
   "cell_type": "markdown",
   "metadata": {},
   "source": [
    "### Delete"
   ]
  },
  {
   "cell_type": "code",
   "execution_count": 16,
   "metadata": {},
   "outputs": [],
   "source": [
    "def delete(root,val):\n",
    "#     if root==None: return root\n",
    "    \n",
    "    if val< root.data:\n",
    "        root.left=delete(root.left,val)\n",
    "    elif val> root.data:\n",
    "        root.right=delte(root.right,val)\n",
    "    else:\n",
    "        if root.left==None:\n",
    "            temp=root.right\n",
    "            root=None\n",
    "            return temp\n",
    "        elif root.left==None:\n",
    "            temp=root.left\n",
    "            del root\n",
    "            return temp\n",
    "        temp =inordersuccess(root.right)\n",
    "        root.data=temp.data\n",
    "        root.right=deletete(root.right,val)\n",
    "        \n",
    "    return root\n",
    "def inordersuccess(root):\n",
    "    curr=root.data\n",
    "    while(curr & curr.left):\n",
    "        curr=curr.left\n",
    "    return curr"
   ]
  },
  {
   "cell_type": "code",
   "execution_count": 26,
   "metadata": {},
   "outputs": [],
   "source": [
    "def deleteNode(root,val):\n",
    "    if root is None:\n",
    "        return root\n",
    "    if val < root.data:\n",
    "        root.left = deleteNode(root.left, val)\n",
    "        return root\n",
    " \n",
    "    elif(val > root.data):\n",
    "        root.right = deleteNode(root.right, val)\n",
    "        return root\n",
    "     \n",
    "    if root.left is None and root.right is None:\n",
    "          return None\n",
    " \n",
    "\n",
    " \n",
    "    if root.left is None:\n",
    "        temp = root.right\n",
    "        root = None\n",
    "        return temp\n",
    " \n",
    "    elif root.right is None:\n",
    "        temp = root.left\n",
    "        root = None\n",
    "        return temp\n",
    " \n",
    " \n",
    "    succParent = root\n",
    " \n",
    " \n",
    "    succ = root.right\n",
    " \n",
    "    while succ.left != None:\n",
    "        succParent = succ\n",
    "        succ = succ.left\n",
    "    if succParent != root:\n",
    "        succParent.left = succ.right\n",
    "    else:\n",
    "        succParent.right = succ.right\n",
    " \n",
    "    # Copy Successor Data to root\n",
    " \n",
    "    root.key = succ.key\n",
    " \n",
    "    return root"
   ]
  },
  {
   "cell_type": "code",
   "execution_count": 27,
   "metadata": {},
   "outputs": [
    {
     "ename": "AttributeError",
     "evalue": "'NoneType' object has no attribute 'data'",
     "output_type": "error",
     "traceback": [
      "\u001b[1;31m---------------------------------------------------------------------------\u001b[0m",
      "\u001b[1;31mAttributeError\u001b[0m                            Traceback (most recent call last)",
      "\u001b[1;32m<ipython-input-27-e34a8f95d909>\u001b[0m in \u001b[0;36m<module>\u001b[1;34m\u001b[0m\n\u001b[1;32m----> 1\u001b[1;33m \u001b[0mroot\u001b[0m\u001b[1;33m=\u001b[0m\u001b[0mdelete\u001b[0m\u001b[1;33m(\u001b[0m\u001b[0mroot\u001b[0m\u001b[1;33m,\u001b[0m\u001b[1;36m8\u001b[0m\u001b[1;33m)\u001b[0m\u001b[1;33m\u001b[0m\u001b[1;33m\u001b[0m\u001b[0m\n\u001b[0m",
      "\u001b[1;32m<ipython-input-16-ae65c8b52d1c>\u001b[0m in \u001b[0;36mdelete\u001b[1;34m(root, val)\u001b[0m\n\u001b[0;32m      2\u001b[0m \u001b[1;31m#     if root==None: return root\u001b[0m\u001b[1;33m\u001b[0m\u001b[1;33m\u001b[0m\u001b[1;33m\u001b[0m\u001b[0m\n\u001b[0;32m      3\u001b[0m \u001b[1;33m\u001b[0m\u001b[0m\n\u001b[1;32m----> 4\u001b[1;33m     \u001b[1;32mif\u001b[0m \u001b[0mval\u001b[0m\u001b[1;33m<\u001b[0m \u001b[0mroot\u001b[0m\u001b[1;33m.\u001b[0m\u001b[0mdata\u001b[0m\u001b[1;33m:\u001b[0m\u001b[1;33m\u001b[0m\u001b[1;33m\u001b[0m\u001b[0m\n\u001b[0m\u001b[0;32m      5\u001b[0m         \u001b[0mroot\u001b[0m\u001b[1;33m.\u001b[0m\u001b[0mleft\u001b[0m\u001b[1;33m=\u001b[0m\u001b[0mdelete\u001b[0m\u001b[1;33m(\u001b[0m\u001b[0mroot\u001b[0m\u001b[1;33m.\u001b[0m\u001b[0mleft\u001b[0m\u001b[1;33m,\u001b[0m\u001b[0mval\u001b[0m\u001b[1;33m)\u001b[0m\u001b[1;33m\u001b[0m\u001b[1;33m\u001b[0m\u001b[0m\n\u001b[0;32m      6\u001b[0m     \u001b[1;32melif\u001b[0m \u001b[0mval\u001b[0m\u001b[1;33m>\u001b[0m \u001b[0mroot\u001b[0m\u001b[1;33m.\u001b[0m\u001b[0mdata\u001b[0m\u001b[1;33m:\u001b[0m\u001b[1;33m\u001b[0m\u001b[1;33m\u001b[0m\u001b[0m\n",
      "\u001b[1;31mAttributeError\u001b[0m: 'NoneType' object has no attribute 'data'"
     ]
    }
   ],
   "source": [
    "root=delete(root,8)\n"
   ]
  },
  {
   "cell_type": "code",
   "execution_count": 24,
   "metadata": {},
   "outputs": [],
   "source": [
    "inorder(root)"
   ]
  },
  {
   "cell_type": "code",
   "execution_count": null,
   "metadata": {},
   "outputs": [],
   "source": []
  },
  {
   "cell_type": "code",
   "execution_count": null,
   "metadata": {},
   "outputs": [],
   "source": []
  }
 ],
 "metadata": {
  "kernelspec": {
   "display_name": "Python 3",
   "language": "python",
   "name": "python3"
  },
  "language_info": {
   "codemirror_mode": {
    "name": "ipython",
    "version": 3
   },
   "file_extension": ".py",
   "mimetype": "text/x-python",
   "name": "python",
   "nbconvert_exporter": "python",
   "pygments_lexer": "ipython3",
   "version": "3.8.5"
  }
 },
 "nbformat": 4,
 "nbformat_minor": 4
}
