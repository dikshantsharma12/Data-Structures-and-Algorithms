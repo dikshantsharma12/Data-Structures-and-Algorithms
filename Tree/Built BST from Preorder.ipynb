{
 "cells": [
  {
   "cell_type": "code",
   "execution_count": 77,
   "metadata": {},
   "outputs": [],
   "source": [
    "class Node:\n",
    "    def __init__(self,data):\n",
    "        self.data=data\n",
    "        self.left=None\n",
    "        self.right=None\n",
    "def getPreIndex():\n",
    "    return constructBSt.preIndex\n",
    "def incrementPreIndex():\n",
    "    constructBSt.preIndex += 1\n",
    "def constructBSt(preorder, key, mini , maxi,n ):\n",
    "    if getPreIndex()>=n: return None\n",
    "    root=None\n",
    "    if key>mini and key < maxi:\n",
    "        root = Node(key)\n",
    "        incrementPreIndex()\n",
    "        \n",
    "        if getPreIndex()<n:\n",
    "            root.left=constructBSt(preorder,preorder[getPreIndex()],mini,key,n)\n",
    "        if getPreIndex()<n:\n",
    "            root.right = constructBSt(preorder,preorder[getPreIndex()],key,maxi,n)\n",
    "            \n",
    "        \n",
    "        \n",
    "    return root\n",
    "\n",
    "preorder=[10,2,1,13,11]\n",
    "constructBSt.preIndex = 0\n",
    "preorderIdx=0\n",
    "root=constructBSt(preorder,preorder[0],mini =float(\"-infinity\") ,maxi = float(\"infinity\"),n=len(preorder))"
   ]
  },
  {
   "cell_type": "code",
   "execution_count": 78,
   "metadata": {},
   "outputs": [
    {
     "data": {
      "text/plain": [
       "10"
      ]
     },
     "execution_count": 78,
     "metadata": {},
     "output_type": "execute_result"
    }
   ],
   "source": [
    "root.data"
   ]
  },
  {
   "cell_type": "code",
   "execution_count": 81,
   "metadata": {},
   "outputs": [],
   "source": [
    "def preorder(root):\n",
    "    if root is None: return\n",
    "    \n",
    "    print(root.data , end=\" \")\n",
    "    preorder(root.left)\n",
    "    \n",
    "    preorder(root.right)"
   ]
  },
  {
   "cell_type": "code",
   "execution_count": 82,
   "metadata": {},
   "outputs": [
    {
     "name": "stdout",
     "output_type": "stream",
     "text": [
      "10 2 1 13 11 "
     ]
    }
   ],
   "source": [
    "preorder(root)"
   ]
  },
  {
   "cell_type": "code",
   "execution_count": null,
   "metadata": {},
   "outputs": [],
   "source": []
  }
 ],
 "metadata": {
  "kernelspec": {
   "display_name": "Python 3",
   "language": "python",
   "name": "python3"
  },
  "language_info": {
   "codemirror_mode": {
    "name": "ipython",
    "version": 3
   },
   "file_extension": ".py",
   "mimetype": "text/x-python",
   "name": "python",
   "nbconvert_exporter": "python",
   "pygments_lexer": "ipython3",
   "version": "3.8.5"
  }
 },
 "nbformat": 4,
 "nbformat_minor": 4
}
