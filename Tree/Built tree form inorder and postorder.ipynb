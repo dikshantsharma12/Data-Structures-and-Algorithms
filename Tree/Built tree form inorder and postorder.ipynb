{
 "cells": [
  {
   "cell_type": "code",
   "execution_count": 13,
   "metadata": {},
   "outputs": [
    {
     "name": "stdout",
     "output_type": "stream",
     "text": [
      "4  2  5  3  1  "
     ]
    }
   ],
   "source": [
    "class Node:\n",
    "    def __init__(self,data):\n",
    "        self.data=data\n",
    "        self.left=None\n",
    "        self.right=None\n",
    "def builtTree(postorder,inorder,instart,inend):\n",
    "    if (instart > inend):\n",
    "        return None\n",
    "    val=postorder[builtTree.idx]\n",
    "    builtTree.idx -= 1\n",
    "    curr=Node(val)\n",
    "    if instart==inend:\n",
    "        return curr\n",
    "    pos=search(inorder,instart,inend,val)\n",
    "    curr.right=builtTree(postorder,inorder,pos+1,inend)\n",
    "    curr.left=builtTree(postorder,inorder,instart,pos-1)\n",
    "    \n",
    "    return curr\n",
    "def search(inorder,start,end,val):\n",
    "    for i in range(start,end+1):\n",
    "        if inorder[i]==val:\n",
    "            return i\n",
    "    \n",
    "    \n",
    "    return -1\n",
    "def inorderPrint(root):\n",
    "    if root==None:\n",
    "        return\n",
    "    \n",
    "    \n",
    "    inorderPrint(root.left)\n",
    "    inorderPrint(root.right)\n",
    "    print(root.data,\" \",end=\"\")\n",
    "    \n",
    "postorder=[4,2,5,3,1]\n",
    "inorder=[4,2,1,5,3]\n",
    "builtTree.idx=4\n",
    "root=builtTree(postorder,inorder,0,4)\n",
    "inorderPrint(root)\n",
    "\n"
   ]
  },
  {
   "cell_type": "code",
   "execution_count": null,
   "metadata": {},
   "outputs": [],
   "source": []
  }
 ],
 "metadata": {
  "kernelspec": {
   "display_name": "Python 3",
   "language": "python",
   "name": "python3"
  },
  "language_info": {
   "codemirror_mode": {
    "name": "ipython",
    "version": 3
   },
   "file_extension": ".py",
   "mimetype": "text/x-python",
   "name": "python",
   "nbconvert_exporter": "python",
   "pygments_lexer": "ipython3",
   "version": "3.8.5"
  }
 },
 "nbformat": 4,
 "nbformat_minor": 4
}
