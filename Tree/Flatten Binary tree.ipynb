{
 "cells": [
  {
   "cell_type": "code",
   "execution_count": 12,
   "metadata": {},
   "outputs": [
    {
     "name": "stdout",
     "output_type": "stream",
     "text": [
      "Inorder before Flatten \n",
      "1 2 4 3 5 6 \n",
      "Inorder After Flatten \n",
      "2 1 4 3 5 6 "
     ]
    }
   ],
   "source": [
    "class Node:\n",
    "    def __init__(self,data):\n",
    "        self.data=data\n",
    "        self.right=None\n",
    "        self.left=None\n",
    "\n",
    "def flatten(root):\n",
    "    if root==None or (root.right==None and root.left ==None):\n",
    "        return\n",
    "    if root.left != None:\n",
    "        flatten(root.left)\n",
    "        \n",
    "        temp=root.right\n",
    "        root.right=root.left\n",
    "        root.left=None\n",
    "        \n",
    "        t=root.right\n",
    "        while t.right!=None:\n",
    "            t=t.right\n",
    "        t.right=temp\n",
    "def inorder(root):\n",
    "    if root==None:\n",
    "        return\n",
    "    inorder(root.left)\n",
    "    print(root.data,end=\" \")\n",
    "    inorder(root.right)\n",
    "    \n",
    "\n",
    "root=Node(2)\n",
    "root.left=Node(1)\n",
    "root.right=Node(3)\n",
    "root.right.left=Node(4)\n",
    "root.right.right=Node(5)\n",
    "root.right.right.right=Node(6)\n",
    "print(\"Inorder before Flatten \")\n",
    "inorder(root)\n",
    "print()\n",
    "flatten(root)\n",
    "print(\"Inorder After Flatten \")\n",
    "inorder(root)\n",
    "\n"
   ]
  },
  {
   "cell_type": "code",
   "execution_count": null,
   "metadata": {},
   "outputs": [],
   "source": []
  }
 ],
 "metadata": {
  "kernelspec": {
   "display_name": "Python 3",
   "language": "python",
   "name": "python3"
  },
  "language_info": {
   "codemirror_mode": {
    "name": "ipython",
    "version": 3
   },
   "file_extension": ".py",
   "mimetype": "text/x-python",
   "name": "python",
   "nbconvert_exporter": "python",
   "pygments_lexer": "ipython3",
   "version": "3.8.5"
  }
 },
 "nbformat": 4,
 "nbformat_minor": 4
}
