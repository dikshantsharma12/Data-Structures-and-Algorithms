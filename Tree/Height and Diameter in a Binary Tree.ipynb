{
 "cells": [
  {
   "cell_type": "code",
   "execution_count": 11,
   "metadata": {},
   "outputs": [],
   "source": [
    "class Node:\n",
    "    def __init__(self,data):\n",
    "        self.data=data\n",
    "        self.left=None\n",
    "        self.right=None\n",
    "root=Node(1)\n",
    "root.left=Node(2)\n",
    "root.right=Node(3)\n",
    "root.left.left=Node(4)\n",
    "root.left.right=Node(5)\n",
    "root.right.left=Node(6)\n",
    "root.right.right=Node(7)"
   ]
  },
  {
   "cell_type": "code",
   "execution_count": 14,
   "metadata": {},
   "outputs": [
    {
     "name": "stdout",
     "output_type": "stream",
     "text": [
      "Height of Tree is: 3\n"
     ]
    }
   ],
   "source": [
    "def Height(root):\n",
    "    if(root==None):\n",
    "        return 0\n",
    "    lheight=Height(root.left)\n",
    "    rheight=Height(root.right)\n",
    "    return max(lheight,rheight)+1\n",
    "    \n",
    "print(\"Height of Tree is:\",Height(root))   "
   ]
  },
  {
   "cell_type": "markdown",
   "metadata": {},
   "source": [
    "## Diameter of Tree"
   ]
  },
  {
   "cell_type": "code",
   "execution_count": 15,
   "metadata": {},
   "outputs": [
    {
     "name": "stdout",
     "output_type": "stream",
     "text": [
      "5\n"
     ]
    }
   ],
   "source": [
    "def Diameter(root):\n",
    "    if root==None:\n",
    "        return 0\n",
    "    lheight=Height(root.left)\n",
    "    rheight=Height(root.right)\n",
    "    currDiameter=lheight+rheight+1\n",
    "    \n",
    "    lDiameter=Diameter(root.left)\n",
    "    rdiameter=Diameter(root.right)\n",
    "    \n",
    "    return max(currDiameter,max(rdiameter,lDiameter))\n",
    "\n",
    "print(Diameter(root))"
   ]
  },
  {
   "cell_type": "code",
   "execution_count": null,
   "metadata": {},
   "outputs": [],
   "source": []
  }
 ],
 "metadata": {
  "kernelspec": {
   "display_name": "Python 3",
   "language": "python",
   "name": "python3"
  },
  "language_info": {
   "codemirror_mode": {
    "name": "ipython",
    "version": 3
   },
   "file_extension": ".py",
   "mimetype": "text/x-python",
   "name": "python",
   "nbconvert_exporter": "python",
   "pygments_lexer": "ipython3",
   "version": "3.8.5"
  }
 },
 "nbformat": 4,
 "nbformat_minor": 4
}
