{
 "cells": [
  {
   "cell_type": "code",
   "execution_count": 9,
   "metadata": {},
   "outputs": [
    {
     "name": "stdout",
     "output_type": "stream",
     "text": [
      "1 : 1 2 3 \n",
      "2 : 1 3 2 \n",
      "3 : 2 1 3 \n",
      "4 : 3 1 2 \n",
      "5 : 3 2 1 \n"
     ]
    }
   ],
   "source": [
    "class Node:\n",
    "    def __init__(self,data):\n",
    "        self.data=data\n",
    "        self.left=None\n",
    "        self.right=None\n",
    "def constructTrees(start,end):\n",
    "\n",
    "        \n",
    "    trees=[]\n",
    "    if start>end:\n",
    "        trees.append(None)\n",
    "        return trees\n",
    "    for i in range(start,end+1):\n",
    "        leftsubtrees=constructTrees(start,i-1)\n",
    "        rightsubtrees=constructTrees(i+1,end)\n",
    "        \n",
    "        for j in range(len(leftsubtrees)):\n",
    "            left=leftsubtrees[j]\n",
    "            for k in range(len(rightsubtrees)):\n",
    "                right=rightsubtrees[k]\n",
    "                node=Node(i)\n",
    "                node.left=left\n",
    "                node.right=right\n",
    "                trees.append(node)\n",
    "                \n",
    "    return trees\n",
    "def preorder(root):\n",
    "    if not root:\n",
    "        return \n",
    "    print(root.data,end=\" \")\n",
    "    preorder(root.left)\n",
    "    preorder(root.right)\n",
    "        \n",
    "totaltrees=constructTrees(1,3)\n",
    "for i in range(len(totaltrees)):\n",
    "    print((i+1),\":\",end=\" \")\n",
    "    preorder(totaltrees[i])\n",
    "    print()\n",
    "    "
   ]
  },
  {
   "cell_type": "code",
   "execution_count": null,
   "metadata": {},
   "outputs": [],
   "source": []
  }
 ],
 "metadata": {
  "kernelspec": {
   "display_name": "Python 3",
   "language": "python",
   "name": "python3"
  },
  "language_info": {
   "codemirror_mode": {
    "name": "ipython",
    "version": 3
   },
   "file_extension": ".py",
   "mimetype": "text/x-python",
   "name": "python",
   "nbconvert_exporter": "python",
   "pygments_lexer": "ipython3",
   "version": "3.8.5"
  }
 },
 "nbformat": 4,
 "nbformat_minor": 4
}
