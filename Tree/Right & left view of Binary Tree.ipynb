{
 "cells": [
  {
   "cell_type": "code",
   "execution_count": 1,
   "metadata": {},
   "outputs": [],
   "source": [
    "class Node:\n",
    "    def __init__(self,data):\n",
    "        self.data=data\n",
    "        self.right=None\n",
    "        self.left=None\n",
    "root=Node(1)\n",
    "root.left=Node(2)\n",
    "root.right=Node(3)\n",
    "root.left.left=Node(4)\n",
    "root.left.right=Node(5)\n",
    "root.right.left=Node(6)\n",
    "root.right.right=Node(7)"
   ]
  },
  {
   "cell_type": "markdown",
   "metadata": {},
   "source": [
    "## Right View"
   ]
  },
  {
   "cell_type": "code",
   "execution_count": 2,
   "metadata": {},
   "outputs": [
    {
     "name": "stdout",
     "output_type": "stream",
     "text": [
      "1 3 7 "
     ]
    }
   ],
   "source": [
    "def rightView(root):\n",
    "    if root==None:\n",
    "        return \n",
    "    \n",
    "    queue=[]\n",
    "    queue.append(root)\n",
    "    \n",
    "    while(len(queue)!=0):\n",
    "        n=len(queue)\n",
    "        for i in range(n):\n",
    "            curr=queue.pop(0)\n",
    "            if i==n-1:\n",
    "                print(curr.data,end=\" \")\n",
    "            if curr.left!=None:\n",
    "                queue.append(curr.left)\n",
    "            if curr.right!=None:\n",
    "                queue.append(curr.right)\n",
    "                \n",
    "rightView(root)"
   ]
  },
  {
   "cell_type": "markdown",
   "metadata": {},
   "source": [
    "## Left View"
   ]
  },
  {
   "cell_type": "code",
   "execution_count": 6,
   "metadata": {},
   "outputs": [
    {
     "name": "stdout",
     "output_type": "stream",
     "text": [
      "3 5 "
     ]
    }
   ],
   "source": [
    "def leftView(root):\n",
    "    if root==None:\n",
    "        return \n",
    "    \n",
    "    queue=[]\n",
    "    queue.append(root)\n",
    "    while(len(queue)!=0):\n",
    "        n=len(queue)\n",
    "        for i in range(n):\n",
    "            curr=queue.pop(0)\n",
    "            if i==1:\n",
    "                print(curr.data,end=\" \")\n",
    "            if curr.left!=None:\n",
    "                queue.append(curr.left)\n",
    "            if curr.right!=None:\n",
    "                queue.append(curr.right)\n",
    "    \n",
    "leftView(root)   "
   ]
  },
  {
   "cell_type": "code",
   "execution_count": null,
   "metadata": {},
   "outputs": [],
   "source": []
  }
 ],
 "metadata": {
  "kernelspec": {
   "display_name": "Python 3",
   "language": "python",
   "name": "python3"
  },
  "language_info": {
   "codemirror_mode": {
    "name": "ipython",
    "version": 3
   },
   "file_extension": ".py",
   "mimetype": "text/x-python",
   "name": "python",
   "nbconvert_exporter": "python",
   "pygments_lexer": "ipython3",
   "version": "3.8.5"
  }
 },
 "nbformat": 4,
 "nbformat_minor": 4
}
