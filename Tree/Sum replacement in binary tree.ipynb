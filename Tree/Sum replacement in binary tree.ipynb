{
 "cells": [
  {
   "cell_type": "code",
   "execution_count": 24,
   "metadata": {},
   "outputs": [],
   "source": [
    "class Node:\n",
    "    def __init__(self,data):\n",
    "        self.data=data\n",
    "        self.right=None\n",
    "        self.left=None\n",
    "root=Node(1)\n",
    "root.left=Node(2)\n",
    "root.right=Node(3)\n",
    "root.left.left=Node(4)\n",
    "root.left.right=Node(5)\n",
    "root.right.left=Node(6)\n",
    "root.right.right=Node(7)"
   ]
  },
  {
   "cell_type": "code",
   "execution_count": 25,
   "metadata": {},
   "outputs": [],
   "source": [
    "def sumReplacement(root):\n",
    "    if root==None:\n",
    "        return \n",
    "    sumReplacement(root.left)\n",
    "    sumReplacement(root.right)\n",
    "    if root.left!=None:\n",
    "        root.data+=root.left.data\n",
    "    if root.right!=None:\n",
    "        root.data+= root.right.data\n",
    "def preorder(root):\n",
    "    if root==None:\n",
    "        return \n",
    "    print(root.data,end=\" \")\n",
    "    preorder(root.left)\n",
    "    preorder(root.right)\n",
    "    \n"
   ]
  },
  {
   "cell_type": "code",
   "execution_count": 26,
   "metadata": {},
   "outputs": [
    {
     "name": "stdout",
     "output_type": "stream",
     "text": [
      "1 2 4 5 3 6 7  \n",
      "28 11 4 5 16 6 7 "
     ]
    }
   ],
   "source": [
    "preorder(root)\n",
    "sumReplacement(root)\n",
    "print(\" \")\n",
    "preorder(root)"
   ]
  },
  {
   "cell_type": "code",
   "execution_count": null,
   "metadata": {},
   "outputs": [],
   "source": []
  }
 ],
 "metadata": {
  "kernelspec": {
   "display_name": "Python 3",
   "language": "python",
   "name": "python3"
  },
  "language_info": {
   "codemirror_mode": {
    "name": "ipython",
    "version": 3
   },
   "file_extension": ".py",
   "mimetype": "text/x-python",
   "name": "python",
   "nbconvert_exporter": "python",
   "pygments_lexer": "ipython3",
   "version": "3.8.5"
  }
 },
 "nbformat": 4,
 "nbformat_minor": 4
}
