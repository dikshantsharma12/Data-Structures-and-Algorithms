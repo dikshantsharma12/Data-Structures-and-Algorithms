{
 "cells": [
  {
   "cell_type": "code",
   "execution_count": 7,
   "metadata": {},
   "outputs": [
    {
     "name": "stdout",
     "output_type": "stream",
     "text": [
      "4 2 1 5 3 "
     ]
    }
   ],
   "source": [
    "class Node:\n",
    "    def __init__(self,data):\n",
    "        self.data=data\n",
    "        self.left=None\n",
    "        self.right=None\n",
    "\n",
    "\n",
    "def builtTree(preorder,inorder,start,end):\n",
    "    \n",
    "    \n",
    "    if start>end:\n",
    "        return None\n",
    "    curr=preorder[builtTree.idx]\n",
    "    builtTree.idx+=1\n",
    "    node=Node(curr)\n",
    "    if start==end:\n",
    "        return node\n",
    "    \n",
    "    pos=search(inorder,start,end,curr)\n",
    "    node.left=builtTree(preorder, inorder,start,pos-1)\n",
    "    node.right=builtTree(preorder,inorder,pos+1,end)\n",
    "    \n",
    "    return node\n",
    "def search(inorder,start ,end,curr):\n",
    "    for i in range(start,end+1):\n",
    "        if inorder[i]==curr:\n",
    "            return i\n",
    "        \n",
    "    \n",
    "    return -1\n",
    "def inorderprint(root):\n",
    "    if root==None:\n",
    "        return \n",
    "    inorderprint(root.left)\n",
    "    print(root.data,end=\" \")\n",
    "    inorderprint(root.right)\n",
    "    \n",
    "    \n",
    "preorder=[1,2,4,3,5]\n",
    "inorder=[4,2,1,5,3]\n",
    "builtTree.idx=0\n",
    "root=builtTree(preorder,inorder,0,4)\n",
    "inorderprint(root)\n"
   ]
  },
  {
   "cell_type": "code",
   "execution_count": 9,
   "metadata": {},
   "outputs": [
    {
     "name": "stdout",
     "output_type": "stream",
     "text": [
      "Inorder traversal of the constructed tree is\n",
      "D B E A F C "
     ]
    }
   ],
   "source": [
    "class Node:\n",
    "     \n",
    "    def __init__(self, data):\n",
    "        self.data = data\n",
    "        self.left = None\n",
    "        self.right = None\n",
    "        \n",
    "def buildTree(inOrder, preOrder, inStrt, inEnd):\n",
    "     \n",
    "    if (inStrt > inEnd):\n",
    "        return None\n",
    "\n",
    "    tNode = Node(preOrder[buildTree.preIndex])\n",
    "    buildTree.preIndex += 1\n",
    "\n",
    "    if inStrt == inEnd :\n",
    "        return tNode\n",
    "\n",
    "    inIndex = search(inOrder, inStrt, inEnd, tNode.data)\n",
    "\n",
    "    tNode.left = buildTree(inOrder, preOrder, inStrt, inIndex-1)\n",
    "    tNode.right = buildTree(inOrder, preOrder, inIndex + 1, inEnd)\n",
    " \n",
    "    return tNode\n",
    " \n",
    "def search(arr, start, end, value):\n",
    "    for i in range(start, end + 1):\n",
    "        if arr[i] == value:\n",
    "            return i\n",
    "\n",
    "def printInorder(node):\n",
    "    if node is None:\n",
    "        return\n",
    "    printInorder(node.left)\n",
    "    print(node.data,end=\" \")\n",
    "    printInorder(node.right)\n",
    "     \n",
    "inOrder = ['D', 'B', 'E', 'A', 'F', 'C']\n",
    "preOrder = ['A', 'B', 'D', 'E', 'C', 'F']\n",
    "\n",
    "buildTree.preIndex = 0\n",
    "root = buildTree(inOrder, preOrder, 0, len(inOrder)-1)\n",
    "\n",
    "print( \"Inorder traversal of the constructed tree is\")\n",
    "printInorder(root)"
   ]
  },
  {
   "cell_type": "code",
   "execution_count": 7,
   "metadata": {},
   "outputs": [
    {
     "data": {
      "text/plain": [
       "3"
      ]
     },
     "execution_count": 7,
     "metadata": {},
     "output_type": "execute_result"
    }
   ],
   "source": []
  },
  {
   "cell_type": "code",
   "execution_count": null,
   "metadata": {},
   "outputs": [],
   "source": []
  }
 ],
 "metadata": {
  "kernelspec": {
   "display_name": "Python 3",
   "language": "python",
   "name": "python3"
  },
  "language_info": {
   "codemirror_mode": {
    "name": "ipython",
    "version": 3
   },
   "file_extension": ".py",
   "mimetype": "text/x-python",
   "name": "python",
   "nbconvert_exporter": "python",
   "pygments_lexer": "ipython3",
   "version": "3.8.5"
  }
 },
 "nbformat": 4,
 "nbformat_minor": 4
}
