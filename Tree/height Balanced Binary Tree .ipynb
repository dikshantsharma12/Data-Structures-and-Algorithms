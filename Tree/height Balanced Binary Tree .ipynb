{
 "cells": [
  {
   "cell_type": "code",
   "execution_count": 6,
   "metadata": {},
   "outputs": [],
   "source": [
    "class Node:\n",
    "    def __init__(self,data):\n",
    "        self.data=data\n",
    "        self.right=None\n",
    "        self.left=None\n",
    "root=Node(1)\n",
    "root.left=Node(2)\n",
    "root.right=Node(3)\n",
    "root.left.left=Node(4)\n",
    "root.left.right=Node(5)\n",
    "root.right.left=Node(6)\n",
    "root.right.right=Node(7)"
   ]
  },
  {
   "cell_type": "code",
   "execution_count": 11,
   "metadata": {},
   "outputs": [
    {
     "name": "stdout",
     "output_type": "stream",
     "text": [
      "Balanced\n"
     ]
    }
   ],
   "source": [
    "def Height(root):\n",
    "    if root==None:\n",
    "        return 0\n",
    "    lh=Height(root.left)\n",
    "    rh=Height(root.left)\n",
    "    return max(lh,rh)+1\n",
    "    \n",
    "def isBalanced(root):\n",
    "    if root==None:\n",
    "        return True\n",
    "    if isBalanced(root.left)==False:\n",
    "        return False\n",
    "    if isBalanced(root.right)==False:\n",
    "        return False\n",
    "    lh=Height(root.left)\n",
    "    rh=Height(root.right)\n",
    "    if(abs(lh-rh)<=1):\n",
    "        return True\n",
    "    else:\n",
    "        return False\n",
    "    \n",
    "if isBalanced(root):\n",
    "    print(\"Balanced\")\n",
    "else:\n",
    "    print(\"Unbalanced\")"
   ]
  },
  {
   "cell_type": "markdown",
   "metadata": {},
   "source": [
    "\n"
   ]
  },
  {
   "cell_type": "code",
   "execution_count": null,
   "metadata": {},
   "outputs": [],
   "source": []
  }
 ],
 "metadata": {
  "kernelspec": {
   "display_name": "Python 3",
   "language": "python",
   "name": "python3"
  },
  "language_info": {
   "codemirror_mode": {
    "name": "ipython",
    "version": 3
   },
   "file_extension": ".py",
   "mimetype": "text/x-python",
   "name": "python",
   "nbconvert_exporter": "python",
   "pygments_lexer": "ipython3",
   "version": "3.8.5"
  }
 },
 "nbformat": 4,
 "nbformat_minor": 4
}
