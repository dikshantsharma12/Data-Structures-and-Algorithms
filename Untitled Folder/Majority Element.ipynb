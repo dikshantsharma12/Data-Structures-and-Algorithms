{
 "cells": [
  {
   "cell_type": "code",
   "execution_count": 45,
   "metadata": {},
   "outputs": [
    {
     "name": "stdout",
     "output_type": "stream",
     "text": [
      "Enter the elments5\n",
      "1 1 3 3 3\n"
     ]
    }
   ],
   "source": [
    "n=int(input(\"Enter the elments\"))\n",
    "lis=list(map(int,input().strip().split()))[:n]"
   ]
  },
  {
   "cell_type": "code",
   "execution_count": 46,
   "metadata": {},
   "outputs": [
    {
     "name": "stdout",
     "output_type": "stream",
     "text": [
      "3\n"
     ]
    }
   ],
   "source": [
    "dic={}\n",
    "for i in lis:\n",
    "    if i not in dic.keys():\n",
    "        dic[i]=1\n",
    "    else:\n",
    "        \n",
    "        dic[i]=dic[i]+1\n",
    "        \n",
    "maximum=0\n",
    "for i in dic.keys():\n",
    "    \n",
    "    \n",
    "    if dic[i]>maximum:\n",
    "        maxi=i\n",
    "        maximum=dic[i]\n",
    "print(maxi)"
   ]
  },
  {
   "cell_type": "code",
   "execution_count": 52,
   "metadata": {},
   "outputs": [
    {
     "name": "stdout",
     "output_type": "stream",
     "text": [
      "5 6\n",
      "5 5\n",
      "5 4\n",
      "5 3\n",
      "5 2\n",
      "5 1\n",
      "30\n"
     ]
    }
   ],
   "source": [
    "def dosometing(a,b):\n",
    "    print(a,b)\n",
    "    if b==1:\n",
    "        return a\n",
    "    else:\n",
    "        \n",
    "        return a+dosometing(a,b-1)\n",
    "print(dosometing(5,6))"
   ]
  },
  {
   "cell_type": "code",
   "execution_count": null,
   "metadata": {},
   "outputs": [],
   "source": []
  }
 ],
 "metadata": {
  "kernelspec": {
   "display_name": "Python 3",
   "language": "python",
   "name": "python3"
  },
  "language_info": {
   "codemirror_mode": {
    "name": "ipython",
    "version": 3
   },
   "file_extension": ".py",
   "mimetype": "text/x-python",
   "name": "python",
   "nbconvert_exporter": "python",
   "pygments_lexer": "ipython3",
   "version": "3.8.5"
  }
 },
 "nbformat": 4,
 "nbformat_minor": 4
}
